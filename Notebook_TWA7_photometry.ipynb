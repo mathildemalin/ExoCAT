{
 "cells": [
  {
   "cell_type": "markdown",
   "id": "948a3a82-7da1-4b40-8e6c-0f43c3d626bb",
   "metadata": {},
   "source": [
    "## MIRI Coronographic data\n",
    "Analysis of TWA 7 (Lagrange et al. 2025): measurement of point-source photometry, after subtracting stellar diffraction (using the Notebook_TWA7_stellar_sub.ipynb)."
   ]
  },
  {
   "cell_type": "code",
   "execution_count": null,
   "id": "7c969c89-d526-49f8-9ffe-360f3054c900",
   "metadata": {},
   "outputs": [],
   "source": [
    "#Useful package\n",
    "import numpy as np\n",
    "import glob, os\n",
    "from astropy.io import fits\n",
    "import matplotlib.pyplot as plt\n",
    "import webbpsf\n",
    "\n",
    "# Personal import from ExoCAT\n",
    "from utils import *\n",
    "from miri_corono import *\n",
    "from miri_photometry import *"
   ]
  },
  {
   "cell_type": "code",
   "execution_count": 2,
   "id": "28d4c165-9528-4ca5-8023-1dc5426268cd",
   "metadata": {},
   "outputs": [
    {
     "name": "stdout",
     "output_type": "stream",
     "text": [
      "Rotation angle roll 1:  121.44701280075499\n",
      "Rotation angle roll 2:  129.26840424658178\n"
     ]
    }
   ],
   "source": [
    "name_system = 'TWA7'\n",
    "filter_name = 'F1140C'\n",
    "wavelength_filter = 11.3\n",
    "nb_filters = len(filter_name)\n",
    "lambdaD_pix = ((wavelength_filter*10**-6)/6.57)*(180*3600/np.pi) / pix_size\n",
    "\n",
    "# Center corono : DEC, RA \n",
    "yxc1065 = [112.00, 120.25]  \n",
    "yxc1140 = [112.16, 119.77]\n",
    "yxc1550 = [113.20, 119.73] \n",
    "yxc2330 = [167.88, 144.33]  \n",
    "center_corono = np.array(yxc1140) # define the filter of the obs\n",
    "\n",
    "\n",
    "# Number of the observations (useful to order, save & retrieve the data)\n",
    "num_obs = [1,2,3,4,5] # science roll 1, roll 2, background, ref, ref background\n",
    "\n",
    "pixel_area = 2.84403609523084E-13\n",
    "\n",
    "### priors on the planet's position (if known)\n",
    "RA_Offset = -1.1\n",
    "Dec_Offset = 1.01\n",
    "\n",
    "path = f\"/Users/mmalin/MIRI/Corono/DATA/{name_system}/\" # data Directory\n",
    "output_dir = path+name_system+f\"_outputs/\" # where to save the output\n",
    "\n",
    "# Rotation angle (for final plot): \n",
    "files = path+f\"stage2_photom/obs{num_obs[0]}/TWA7_dither1_cal.fits\"\n",
    "pa_aper_roll1 = fits.open(files)[1].header[\"PA_APER\"] \n",
    "files = path+f\"stage2_photom/obs{num_obs[1]}/TWA7_dither1_cal.fits\"\n",
    "pa_aper_roll2 = fits.open(files)[1].header[\"PA_APER\"] \n",
    "print(\"Rotation angle roll 1: \", pa_aper_roll1)\n",
    "print(\"Rotation angle roll 2: \", pa_aper_roll2)"
   ]
  },
  {
   "cell_type": "markdown",
   "id": "ec5e653e-0ca3-46b9-93a4-5dcbf4d9769c",
   "metadata": {},
   "source": [
    "##### Get the data from the reduction wanted"
   ]
  },
  {
   "cell_type": "code",
   "execution_count": 5,
   "id": "a2d2f775-a64c-4f75-867d-9811e672f018",
   "metadata": {},
   "outputs": [
    {
     "name": "stdout",
     "output_type": "stream",
     "text": [
      "Planet's position (102.43942505695273, 86.7063134694344)\n",
      "Planet's position (101.27082018273688, 86.535823975307)\n"
     ]
    }
   ],
   "source": [
    "new_dir_roll1 = output_dir+'/data_sub_roll1/'  # Directory to save plots and data after stellar subtraction\n",
    "new_dir_roll2 = output_dir+'/data_sub_roll2/'  # Directory to save plots and data after stellar subtraction\n",
    "\n",
    "# data after PSF subtraction\n",
    "data_sub_roll1 = fits.open(new_dir_roll1+name_system+f'_PCA_{filter_name}_norot.fits')[1].data\n",
    "data_sub_roll2 = fits.open(new_dir_roll2+name_system+f'_PCA_{filter_name}_norot.fits')[1].data\n",
    "new_center = np.shape(data_sub_roll1)[0]/2, np.shape(data_sub_roll1)[1]/2\n",
    "\n",
    "pos_planet_b_roll1 = measure_pos_planet(data_sub_roll1, RA_Offset, Dec_Offset, new_center, rotation = True, angle=pa_aper_roll1, plot_fit=False)\n",
    "print(f\"Planet's position {pos_planet_b_roll1}\")\n",
    "pos_planet_b_roll2 = measure_pos_planet(data_sub_roll2, RA_Offset, Dec_Offset, new_center, rotation = True, angle=pa_aper_roll2, plot_fit=False)\n",
    "print(f\"Planet's position {pos_planet_b_roll2}\")\n",
    "\n",
    "data_sub_rot_PCA_roll1 = rotate_images(data_sub_roll1,new_center,200, -pa_aper_roll1)\n",
    "data_sub_rot_PCA_roll2 = rotate_images(data_sub_roll2,new_center,200, -pa_aper_roll2)\n",
    "\n",
    "# DATA RED.\n",
    "a = 100\n",
    "# reduced data - Roll 1 \n",
    "files_cal = path+f\"/stage2_photom/obs{num_obs[0]}/TWA7_dither1_cal.fits\" # phtometrically calibrated files in MJy/sec\n",
    "data_cal = fits.open(files_cal)[1].data\n",
    "data_clean = clean_data(data_cal)\n",
    "offset_center = center_corono-new_center\n",
    "data_red = scipy.ndimage.shift(np.nan_to_num(data_clean), -offset_center) \n",
    "data_red_roll1 = data_red[:a*2,:a*2]\n",
    "\n",
    "# reduced data - Roll 2 \n",
    "files_cal = path+f\"/stage2_photom/obs{num_obs[0]}/TWA7_dither1_cal.fits\" # phtometrically calibrated files in MJy/sec\n",
    "data_cal = fits.open(files_cal)[1].data\n",
    "data_clean = clean_data(data_cal)\n",
    "data_red = scipy.ndimage.shift(np.nan_to_num(data_clean), -offset_center) \n",
    "data_red_roll2 = data_red[:a*2,:a*2]"
   ]
  },
  {
   "cell_type": "code",
   "execution_count": 6,
   "id": "193204eb-7739-4490-9376-a5bdc4db71a5",
   "metadata": {},
   "outputs": [],
   "source": [
    "# No photom version\n",
    "new_dir_nophotom_roll1 = output_dir+'/data_sub_nophotom_roll1/'  # Directory to save plots and data after stellar subtraction\n",
    "new_dir_nophotom_roll2 = output_dir+'/data_sub_nophotom_roll2/'  # Directory to save plots and data after stellar subtraction\n",
    "# data after PSF subtraction\n",
    "data_sub_nophotom_roll1 = fits.open(new_dir_nophotom_roll1+name_system+f'_PCA_{filter_name}_norot.fits')[1].data\n",
    "data_sub_nophotom_roll2 = fits.open(new_dir_nophotom_roll2+name_system+f'_PCA_{filter_name}_norot.fits')[1].data\n",
    "data_sub_rot_PCA_roll1 = rotate_images(data_sub_nophotom_roll1,new_center,200, -pa_aper_roll1)\n",
    "data_sub_rot_PCA_roll2 = rotate_images(data_sub_nophotom_roll2,new_center,200, -pa_aper_roll2)\n",
    "\n",
    "# DATA RED.\n",
    "# reduced data - Roll 1 \n",
    "files_cal = path+f\"/stage2_no_photom/obs{num_obs[0]}/TWA7_dither1_cal.fits\" # phtometrically calibrated files in MJy/sec\n",
    "data_cal = fits.open(files_cal)[1].data\n",
    "data_clean = clean_data(data_cal)\n",
    "offset_center = center_corono-new_center\n",
    "data_red = scipy.ndimage.shift(np.nan_to_num(data_clean), -offset_center) \n",
    "data_red_nophotom_roll1 = data_red[:a*2,:a*2]\n",
    "\n",
    "# reduced data - Roll 2 \n",
    "files_cal = path+f\"/stage2_no_photom/obs{num_obs[0]}/TWA7_dither1_cal.fits\" # phtometrically calibrated files in MJy/sec\n",
    "data_cal = fits.open(files_cal)[1].data\n",
    "data_clean = clean_data(data_cal)\n",
    "data_red = scipy.ndimage.shift(np.nan_to_num(data_clean), -offset_center) \n",
    "data_red_nophotom_roll2 = data_red[:a*2,:a*2]"
   ]
  },
  {
   "cell_type": "markdown",
   "id": "aa682a5b-44fd-4cb9-b0f3-1f6059aa5e06",
   "metadata": {},
   "source": [
    "## 7. Photometry"
   ]
  },
  {
   "cell_type": "code",
   "execution_count": 7,
   "id": "06cfd5cf-78a3-4f7e-bff6-503191975455",
   "metadata": {},
   "outputs": [],
   "source": [
    "# which data reduction :\n",
    "nb_roll = 1\n",
    "pa_aper = pa_aper_roll1\n",
    "method_subtraction = 'classical_PCA'\n",
    "data_sub = data_sub_roll1\n",
    "data_sub_nophotom = data_sub_nophotom_roll1\n",
    "pos_planet_b = pos_planet_b_roll1"
   ]
  },
  {
   "cell_type": "markdown",
   "id": "3aeda164-f19c-406f-8dc3-4058b81c67a1",
   "metadata": {},
   "source": [
    "#### 7.1 Generate a model "
   ]
  },
  {
   "cell_type": "code",
   "execution_count": 8,
   "id": "9a550813-34f2-4003-89c6-b1d0d0e037d3",
   "metadata": {},
   "outputs": [
    {
     "name": "stderr",
     "output_type": "stream",
     "text": [
      "2025-02-25 17:22:20,420 - stpipe - WARNING - /Users/mmalin/anaconda3/envs/jwst_latest/lib/python3.11/site-packages/astropy/io/fits/card.py:1036: VerifyWarning: Card is too long, comment will be truncated.\n",
      "  warnings.warn(\n",
      "\n"
     ]
    }
   ],
   "source": [
    "RA_Offset_det, Dec_Offset_det = rotate_coordinates(RA_Offset, Dec_Offset, pa_aper)\n",
    "position_fov = RA_Offset_det, Dec_Offset_det\n",
    "model_psf_planet = generate_psf('F1140C', 'FQPM1140', position_fov, fov_arcsec=23)"
   ]
  },
  {
   "cell_type": "code",
   "execution_count": 9,
   "id": "0e20bc8a-2590-43c1-98c3-1d85dd40adb6",
   "metadata": {},
   "outputs": [],
   "source": [
    "# Planet repositioned at the right position in the field\n",
    "center_pix = (np.shape(model_psf_planet)[0]/2,np.shape(model_psf_planet)[1]/2)\n",
    "pos_planet_simu = np.where(model_psf_planet==np.max(model_psf_planet))\n",
    "offset1 = [pos_planet_b[0] - pos_planet_simu[0][0]][0] # x\n",
    "offset0 = [pos_planet_b[1] - pos_planet_simu[1][0]][0] # y \n",
    "psf_norm = model_psf_planet/np.max(model_psf_planet)\n",
    "psf_roll = scipy.ndimage.shift(psf_norm, (offset0,offset1))\n",
    "lim = np.shape(data_sub)\n",
    "model_planet = (psf_roll[:lim[0], :lim[1]])"
   ]
  },
  {
   "cell_type": "code",
   "execution_count": 10,
   "id": "4d33bba7-3e82-4685-92a3-522d868138f2",
   "metadata": {},
   "outputs": [],
   "source": [
    "filters = 'F1140C'\n",
    "masks = 'FQPM1140'\n",
    "#measure_attenuation(filters, masks, offsets*pix_size) \n",
    "if  nb_roll == 1:\n",
    "    attenuation, aperture_corr = 0.621, 2.5\n",
    "elif nb_roll == 2:\n",
    "    attenuation, aperture_corr = 0.278, 2.5\n",
    "#attenuation, aperture_corr =  measure_attenuation(filters, masks, offsets*pix_size) "
   ]
  },
  {
   "cell_type": "markdown",
   "id": "425cd11a-9a34-4412-bbf3-57a17b4cd780",
   "metadata": {},
   "source": [
    "#### 7.2. Fit the model to the data "
   ]
  },
  {
   "cell_type": "code",
   "execution_count": 11,
   "id": "9c30c45c-0fda-4699-95bc-7dd25bd4cf1b",
   "metadata": {
    "scrolled": true
   },
   "outputs": [
    {
     "name": "stdout",
     "output_type": "stream",
     "text": [
      "Best parameters:\n",
      "1.6187565814780072 -0.5221737960847601 0.4675635090110979\n",
      "Best parameters:\n",
      "0.573310408765609 -0.5221459219103974 0.4675466623587148\n"
     ]
    }
   ],
   "source": [
    "final_model_photom = best_model_planet(data_sub,pos_planet_b,wavelength_filter, model_planet, priors=(1,0,0))\n",
    "final_model_nophotom = best_model_planet(data_sub_nophotom,pos_planet_b,wavelength_filter, model_planet, priors=(1,0,0))\n",
    "\n",
    "# Option to start from the raw data (to use for opt lin.) : \n",
    "#final_model_photom = best_model_planet_sub(data_red, data_red_ref, new_center, pos_planet_b,wavelength_filter, model_planet,\n",
    "#                                            method_subtraction, Kopt = Kmax,priors=(1,0,0))\n",
    "#final_model_nophotom = best_model_planet_sub(data_red, data_red_ref, new_center, pos_planet_b,wavelength_filter, model_planet,\n",
    "#                                        method_subtraction, Kopt = Kmax,priors=(1,0,0))"
   ]
  },
  {
   "cell_type": "code",
   "execution_count": 12,
   "id": "49fa6ffb-f8f9-406a-a7fb-d5c8682b60bf",
   "metadata": {},
   "outputs": [
    {
     "name": "stdout",
     "output_type": "stream",
     "text": [
      "Position initiale (102.43942505695273, 86.7063134694344)\n",
      "Separation : 1.49\n",
      "RA :-1.11\n",
      "DEC :0.99\n"
     ]
    }
   ],
   "source": [
    "print('Position initiale', pos_planet_b)\n",
    "pos_planet = (pos_planet_b[0], pos_planet_b[1])\n",
    "sep_planet = np.sqrt((pos_planet[0]-new_center[0])**2+(pos_planet[1]-new_center[1])**2)  *pix_size\n",
    "print(f'Separation : {np.around(sep_planet,2)}')\n",
    "\n",
    "ra_pos = (pos_planet[0]-new_center[0])*pix_size\n",
    "dec_pos = (pos_planet[1]-new_center[1])*pix_size \n",
    "ra_sky,dec_sky = rotate_coordinates(ra_pos, dec_pos, pa_aper) \n",
    "print(f'RA :{np.around(ra_sky,2)}')\n",
    "print(f'DEC :{np.around(dec_sky,2)}')"
   ]
  },
  {
   "cell_type": "markdown",
   "id": "89dd90f9-71b7-44b7-8e2d-57469dd88a88",
   "metadata": {},
   "source": [
    "### 7.3. Plot the best fit "
   ]
  },
  {
   "cell_type": "code",
   "execution_count": 13,
   "id": "eb746e3b-bbdb-441f-a902-85d2af97f66a",
   "metadata": {},
   "outputs": [
    {
     "data": {
      "image/png": "[encoded data removed]",
      "text/plain": [
       "<Figure size 1400x400 with 6 Axes>"
      ]
     },
     "metadata": {},
     "output_type": "display_data"
    },
    {
     "data": {
      "image/png": "[encoded data removed]",
      "text/plain": [
       "<Figure size 1400x400 with 6 Axes>"
      ]
     },
     "metadata": {},
     "output_type": "display_data"
    }
   ],
   "source": [
    "# Photom\n",
    "plot_photometry(data_sub, final_model_photom, new_center, pos_planet_b, output_dir, name_system, method_subtraction, \n",
    "                    cplanet=\"darkorange\", ccorono='lime', stretch=\"asinh\", starsize=80, starsize2=60, lp=8, a=30, vmin=-0.1, vmax=1)\n",
    "\n",
    "# No photom \n",
    "plot_photometry(data_sub_nophotom, final_model_nophotom, new_center, pos_planet_b, output_dir, name_system, method_subtraction, \n",
    "                    cplanet=\"darkorange\", ccorono='lime', stretch=\"asinh\", starsize=80, starsize2=60, lp=8, a=30, vmin=-0.05, vmax=0.5)"
   ]
  },
  {
   "cell_type": "markdown",
   "id": "853faba3-e229-42c6-8d03-af04615f8d7a",
   "metadata": {},
   "source": [
    "### 7.4. Measure flux and uncertainties"
   ]
  },
  {
   "cell_type": "code",
   "execution_count": 14,
   "id": "b89a914e-2c99-4a2c-bee8-2efc089f14cb",
   "metadata": {},
   "outputs": [
    {
     "name": "stdout",
     "output_type": "stream",
     "text": [
      "Uncertainties on the flux : 2.9089299801484784e-21\n"
     ]
    }
   ],
   "source": [
    "#### error in an annulus around the planet (should be negligible)\n",
    "h,w = np.shape(data_sub)\n",
    "mask_planets = create_circular_mask(h, w, pos_planet_b, 1.5*lambdaD_pix)\n",
    "mask_anneau = createAnnularMask(h, w,(new_center[1],new_center[0]), sep_planet-1.5*lambdaD_pix/2,sep_planet+1.5*lambdaD_pix/2 )\n",
    "mask_err = np.ma.mask_or(~mask_anneau, mask_planets)\n",
    "data_mask = np.ma.array(data_sub, mask = mask_err)\n",
    "data = data_mask.data[data_mask.mask==False]\n",
    "\n",
    "flux_err_photom_MJy = np.nanstd(data)\n",
    "\n",
    "flux_err_photom = np.array(flux_err_photom_MJy)*pixel_area*1e6*1e-26*299792458e6/(np.array(wavelength_filter))**2\n",
    "flux_err_photom = np.array(flux_err_photom)\n",
    "print('Uncertainties on the flux :', flux_err_photom)"
   ]
  },
  {
   "cell_type": "code",
   "execution_count": 15,
   "id": "d3751e33-d4a6-48a9-95a4-bb81268f8f4d",
   "metadata": {},
   "outputs": [
    {
     "name": "stdout",
     "output_type": "stream",
     "text": [
      "Flux planet on the model (MJy/str) :  90.76696663932643\n",
      "Flux planet on the model (muJy) :  25.814452937685783\n",
      "Flux planet on the model (W/m2/microns) :  6.060755186869874e-19\n",
      "Flux planet aper  (MJy/str) :  114.8896344528049\n",
      "Flux planet on the model (muJy) :  32.67502673516539\n",
      "Flux planet aper (W/m2/microns) :  7.671490782481749e-19\n"
     ]
    }
   ],
   "source": [
    "flux_MJy = np.nansum(final_model_photom)\n",
    "flux_MJy = np.array(flux_MJy)* 1/attenuation\n",
    "print(r\"Flux planet on the model (MJy/str) : \", flux_MJy)\n",
    "print(r\"Flux planet on the model (muJy) : \", flux_MJy * pixel_area *1e12)\n",
    "flux_cal = flux_MJy * pixel_area * 1e6 * 1e-26 * 299792458e6 / (np.array(wavelength_filter))**2      \n",
    "print(r\"Flux planet on the model (W/m2/microns) : \", flux_cal)\n",
    "\n",
    "################ \n",
    "flux_MJy = aperture_photom(pos_planet_b,data_sub,1.5*lambdaD_pix)\n",
    "flux_MJy = np.array(flux_MJy)* 1/attenuation\n",
    "flux_MJy =  flux_MJy * np.array(aperture_corr)\n",
    "print(r\"Flux planet aper  (MJy/str) : \", flux_MJy)\n",
    "print(r\"Flux planet on the model (muJy) : \", flux_MJy * pixel_area *1e12)\n",
    "flux_cal_aper = flux_MJy * pixel_area * 1e6 * 1e-26 * 299792458e6 / (np.array(wavelength_filter))**2      \n",
    "print(r\"Flux planet aper (W/m2/microns) : \", flux_cal_aper)\n"
   ]
  },
  {
   "cell_type": "markdown",
   "id": "8609676a-2f2d-41dd-8c68-880d05731c5d",
   "metadata": {},
   "source": [
    "### 7.5. Photometry based on the contrast"
   ]
  },
  {
   "cell_type": "code",
   "execution_count": 16,
   "id": "d5bca08f-ee08-4f36-8fc6-09a62455e7c3",
   "metadata": {},
   "outputs": [
    {
     "name": "stdout",
     "output_type": "stream",
     "text": [
      "Flux planet on the model (DN/s) :  32.14667815220031\n",
      "Flux planet aperture photom (DN/s) :  114.8896344528049\n"
     ]
    }
   ],
   "source": [
    "#Measure flux on the best PSF model :\n",
    "flux_DN = np.nansum(final_model_nophotom)/attenuation\n",
    "print(r\"Flux planet on the model (DN/s) : \", flux_DN)\n",
    "\n",
    "# and with aperture correction \n",
    "flux_DN_aper = aperture_photom(pos_planet_b,data_sub,1.5*lambdaD_pix)\n",
    "flux_DN_aper = np.array(flux_DN_aper)*np.array(aperture_corr) *1/np.array(attenuation)\n",
    "print(r\"Flux planet aperture photom (DN/s) : \", flux_DN_aper)"
   ]
  },
  {
   "cell_type": "markdown",
   "id": "1ddbfa8e-5f68-41f1-b3f6-049c8cdabfe6",
   "metadata": {},
   "source": [
    "### Normalisation for values in DN/s"
   ]
  },
  {
   "cell_type": "code",
   "execution_count": 17,
   "id": "d969ac9d-89e9-44e4-b96b-ec467c1b8b4f",
   "metadata": {},
   "outputs": [
    {
     "name": "stdout",
     "output_type": "stream",
     "text": [
      "Best coef: 1.8400000000000012\n",
      "Min chi2 : 1.4766848003621589\n",
      "SPHERE H2H3 flux (W/m2/microns) : [8.83110223e-13 8.52143707e-13]\n",
      "SPHERE H2H3 flux (W/m2/microns) x best coeff : [1.62492281e-12 1.56794442e-12]\n",
      "Flux star MIRI filter : [1.89514624e-15]\n"
     ]
    }
   ],
   "source": [
    "#Paramètres initiaux de l'étoile :\n",
    "R = 0.8\n",
    "p = 29.32767206565099 #parallax gaia\n",
    "dstar = 1/(p*1e-3)\n",
    "\n",
    "#specnextgen = np.loadtxt('/Users/mmalin/MIRI/Spectres/Stars/BTnextgen-3400K-logg4-0metal_AGSS2009.txt')\n",
    "specnextgen = np.loadtxt('/Users/mmalin/MIRI/Spectres/Stars/BTnextgen-3300K-logg4.5-0metal_AGSS2009.txt')\n",
    "\n",
    "Rs = R* 6.957e8/1e3#conversion en km\n",
    "d = dstar * 3.26 * 9.46e12 #conversion en km: dstar en pc *3.26 al\n",
    "v0 = specnextgen[:,0] #en A\n",
    "v1 = specnextgen[:,1] # erg/cm^2/s/A\n",
    "flux_dil = v1*(Rs**2/d**2) \n",
    "fluxstar = flux_dil*1e-7*1e4*1e4 #1e6 #en W/m2/microns\n",
    "lambdastar_spec = v0*1e-4 #en microns\n",
    "fluxstar_spec = fluxstar\n",
    "\n",
    "#POINTS PHOTOM REEL DE L'ÉTOILE :\n",
    "#2MASS J, 2MASS H, 2MASS Ks WISE W1 (mean) WISE W2, WISE W3 (mean), WISE W4 (mean)\n",
    "wavelengths = np.array([1.24, 1.65, 2.16, 3.35, 4.6,11.6])#, 22.1])\n",
    "flux_Wm2 = np.array([2.90e-12, 2.58e-12, 1.59e-12,5.26e-13,2.42e-13,1.73e-14]) #flux en W.m2\n",
    "err_Wm2 = np.array([4.84e-14, 1.27e-13,4.16e-14,1.79e-14,4.56e-15,2.59e-16])\n",
    "flux_SED = flux_Wm2/wavelengths\n",
    "err_SED = err_Wm2/wavelengths\n",
    "\n",
    "fluxstar_spec_interp = np.interp(wavelengths,lambdastar_spec, fluxstar_spec)\n",
    "\n",
    "# chi2 entre modele et données photom\n",
    "coef = np.arange(0.5, 6, 0.01)\n",
    "chi2 = np.zeros(len(coef))\n",
    "dof = len(wavelengths)-1 # nb data points - nb parameters\n",
    "\n",
    "# remove the last wavelengths (risk of disk contamination)\n",
    "for c in range(len(coef)):\n",
    "    chi2[c] = np.sum(((np.array(flux_SED[:-1]) - coef[c]*np.array(fluxstar_spec_interp[:-1]))/np.array(err_SED[:-1]))**2)/dof\n",
    "\n",
    "bestcoef = (coef[np.argwhere(chi2 == np.min(chi2))])[0]\n",
    "print('Best coef:',bestcoef[0])\n",
    "print('Min chi2 :', np.nanmin(chi2))\n",
    "\n",
    "#RESCALE THE MODEL \n",
    "fluxstar_spec *= bestcoef\n",
    "\n",
    "#Synthetic Photom points for SPHERE\n",
    "synth_wavelength_photom_sphere = np.array([15856.903749345, 16655.252378861]) *1e-4 #en microns\n",
    "synth_photom_sphere = np.array([315248.63983581\t, 304194.35481886])\n",
    "synth_photom_sphere = synth_photom_sphere*(Rs**2/d**2) *1e-7*1e4*1e4 #dilué + en W/m2/microns\n",
    "print(\"SPHERE H2H3 flux (W/m2/microns) :\", synth_photom_sphere)\n",
    "synth_photom_sphere *= bestcoef\n",
    "print(\"SPHERE H2H3 flux (W/m2/microns) x best coeff :\", synth_photom_sphere)\n",
    "\n",
    "# Spectre Teff=3400K et logg=4.5\n",
    "synth_wavelength_photom = np.array([105542.38813308,113013.46845431,155079.49825604 ]) *1e-4 #en microns\n",
    "#synth_photom = np.array([501.34898921011,383.50317561351,112.55664575276])\n",
    "# Spectre Teff=3300K et logg=4.5\n",
    "synth_photom = np.array([480.46021851443,367.67424996019,108.00640204058])\n",
    "synth_photom_MIRI = synth_photom*(Rs**2/d**2) *1e-7*1e4*1e4 *bestcoef\n",
    "\n",
    "fluxstar = synth_photom[1]*(Rs**2/d**2) *1e-7*1e4*1e4 #dilué + en W/m2/microns\n",
    "fluxstar *= bestcoef\n",
    "print('Flux star MIRI filter :', fluxstar)"
   ]
  },
  {
   "cell_type": "markdown",
   "id": "cb31a7f9-6599-4d5f-8b9a-ed725b66b419",
   "metadata": {},
   "source": [
    "### Method 1 with corono images"
   ]
  },
  {
   "cell_type": "code",
   "execution_count": 18,
   "id": "9b4cc8eb-9392-40c6-86f4-3b5f74cef767",
   "metadata": {},
   "outputs": [],
   "source": [
    "path_data = \"/Users/mmalin/MIRI/Corono/DATA/TWA7/\"\n",
    "aperture_corr_5 = 1.2073514168733441\n",
    "aperture_corr_15 = 1.0344683908760721\n",
    "\n",
    "num_obs = [1,4]\n",
    "#Flux ratio between the PSF and the corono image in the comm data (indep of the target, measure previously): \n",
    "I_ratio_coro_comm = [64.9152153,  65.46155754, 63.43823245, 62.87703883, 58.84998801, 61.44419118, 61.60166699, 64.92428159, 65.15499864]\n",
    "I_ratio_coro_comm = np.mean(I_ratio_coro_comm)\n",
    "\n",
    "#Measure flux of the star \n",
    "files_cal = sorted(glob.glob(path_data+\"/stage2_no_photom/obs\"+str(num_obs[0])+\"/*.fits\"))\n",
    "\n",
    "#Aperture = 15 lambda/D\n",
    "#Retrieve the data + sigma clipping\n",
    "data_cal = fits.open(files_cal[0])[1].data\n",
    "data_target = clean_data(data_cal)\n",
    "#plt.imshow(data_target, origin='lower', norm=LogNorm())\n",
    "#plt.colorbar()\n",
    "#plt.show()\n",
    "disque = CircularAperture((center_corono[1],center_corono[0]) , r = 15*lambdaD_pix)\n",
    "mask = disque.to_mask(method = 'center').multiply(data_target)\n",
    "mask = mask[mask>0]\n",
    "flux_on_target = np.nansum(mask) * aperture_corr_15\n",
    "\n",
    "# PSF off-axis \n",
    "I_psf1 = np.array(I_ratio_coro_comm) * np.array(flux_on_target)\n",
    "contraste_norm_com = I_psf1/flux_DN\n",
    "flux_norm_com = fluxstar/contraste_norm_com\n",
    "\n",
    "contraste_norm_com = I_psf1/flux_DN_aper\n",
    "flux_norm_com_aper = fluxstar/contraste_norm_com"
   ]
  },
  {
   "cell_type": "markdown",
   "id": "b4011531-4b28-445e-acbb-d8014cd984ed",
   "metadata": {},
   "source": [
    "### Method 2 with TA data"
   ]
  },
  {
   "cell_type": "code",
   "execution_count": 19,
   "id": "e0cc9b23-c3ce-4fcb-b9f0-6e9f0c7d61d6",
   "metadata": {},
   "outputs": [],
   "source": [
    "I_ratio_TA_comm = [17.39208248, 17.03916933, 17.32457582]\n",
    "I_ratio_TA_comm = np.mean(I_ratio_TA_comm)\n",
    "\n",
    "flux_star_TA_data = np.ndarray((nb_filters))\n",
    "files_TA = sorted(glob.glob(path_data+\"/stage2_no_photom/obs\"+str(num_obs[0])+\"/TA/*.fits\"))\n",
    "data_TA_1A = fits.open(files_TA[0])[1].data\n",
    "data_TA_1B = fits.open(files_TA[1])[1].data\n",
    "data_TA_target = (data_TA_1A-data_TA_1B)\n",
    "data_TA_target = np.nan_to_num(data_TA_target) \n",
    "data_TA_target = clean_data(data_TA_target)\n",
    "#Filtre à 10 microns (pos1, pos2), 11 microns puis filtre à 15 microns\n",
    "pos_TA = np.where(data_TA_target[100:250, 100:200] == np.nanmax(data_TA_target[100:250, 100:200]))\n",
    "pos_TA = pos_TA[1][0]+100, pos_TA[0][0]+100\n",
    "\n",
    "disque_TA = CircularAperture(pos_TA , r = 5*lambdaD_pix)\n",
    "mask = disque_TA.to_mask(method = 'center').multiply(data_TA_target)\n",
    "mask = mask[mask>0]\n",
    "flux_star_TA_data = np.nansum(mask) * aperture_corr_5\n",
    "\n",
    "I_psf2 = np.array(I_ratio_TA_comm) * np.array(flux_star_TA_data)\n",
    "contraste_norm_com_TA = I_psf2/flux_DN\n",
    "flux_norm_com_TA = fluxstar/contraste_norm_com_TA\n",
    "\n",
    "contraste_norm_com_TA = I_psf2/flux_DN_aper\n",
    "flux_norm_com_TA_aper = fluxstar/contraste_norm_com_TA"
   ]
  },
  {
   "cell_type": "markdown",
   "id": "0840ded0-9b1d-4ef0-9741-2bc7171524b2",
   "metadata": {},
   "source": [
    "#### Method 3 with simu WebbPSF"
   ]
  },
  {
   "cell_type": "code",
   "execution_count": 20,
   "id": "b83c5dfb-78e1-4252-9a79-8d78bcc2cf86",
   "metadata": {
    "scrolled": true
   },
   "outputs": [
    {
     "name": "stderr",
     "output_type": "stream",
     "text": [
      "2025-02-25 17:23:20,386 - stpipe - WARNING - /Users/mmalin/anaconda3/envs/jwst_latest/lib/python3.11/site-packages/astropy/io/fits/card.py:1036: VerifyWarning: Card is too long, comment will be truncated.\n",
      "  warnings.warn(\n",
      "\n",
      "2025-02-25 17:24:11,297 - stpipe - WARNING - /Users/mmalin/anaconda3/envs/jwst_latest/lib/python3.11/site-packages/astropy/io/fits/card.py:1036: VerifyWarning: Card is too long, comment will be truncated.\n",
      "  warnings.warn(\n",
      "\n"
     ]
    }
   ],
   "source": [
    "__, __, sum_value_off_axis_psf = best_off_axis_PSF(data_red_roll1,new_center,'F1065C',rmin=2,rmax=6,\n",
    "                                                             bounds=((None,None),(-1,1),(-1,1)),\n",
    "                                                             plot_model=False,vmin=-2,vmax=10) #priors=(1e2,0,0),\n",
    "I_psf3 = sum_value_off_axis_psf\n",
    "contraste_norm_simu = I_psf3/flux_DN\n",
    "flux_norm_simu = fluxstar/contraste_norm_simu\n",
    "\n",
    "contraste_norm_simu = I_psf3/flux_DN_aper\n",
    "flux_norm_simu_aper = fluxstar/contraste_norm_simu"
   ]
  },
  {
   "cell_type": "code",
   "execution_count": 21,
   "id": "b7099462-ff96-4d70-947f-6312f7e965ed",
   "metadata": {},
   "outputs": [
    {
     "name": "stdout",
     "output_type": "stream",
     "text": [
      "Estimation de la PSF stellaire off-axis : \n",
      "- norm corono :  130646.7030429237\n",
      "- norm TA :  77019.9329799362\n",
      "- norm simu :  214981.26057024457\n",
      "Norm corono =  4.663e-19\n",
      "Norm TA =  7.91e-19\n",
      "Norm simu =  2.834e-19\n",
      "Norm cal pipeline =  6.061e-19\n"
     ]
    }
   ],
   "source": [
    "print('Estimation de la PSF stellaire off-axis : ')\n",
    "print('- norm corono : ', I_psf1)\n",
    "print('- norm TA : ', I_psf2)\n",
    "print('- norm simu : ', I_psf3)\n",
    "\n",
    "print('Norm corono = ', np.around(flux_norm_com[0],22))\n",
    "print('Norm TA = ', np.around(flux_norm_com_TA[0],22))\n",
    "print('Norm simu = ', np.around(flux_norm_simu[0],22))\n",
    "print('Norm cal pipeline = ', np.around(flux_cal,22))"
   ]
  },
  {
   "cell_type": "code",
   "execution_count": 22,
   "id": "69c543ce-580f-44f9-8d0f-2bb4b85c0fba",
   "metadata": {},
   "outputs": [
    {
     "data": {
      "image/png": "[encoded data removed]",
      "text/plain": [
       "<Figure size 640x480 with 1 Axes>"
      ]
     },
     "metadata": {},
     "output_type": "display_data"
    }
   ],
   "source": [
    "plt.scatter(11.3, flux_norm_com[0], label='Norm corono', alpha=0.5)\n",
    "plt.scatter(11.3, flux_norm_com_TA[0], label='Norm TA')\n",
    "plt.scatter(11.3, flux_norm_simu[0], label='Norm Simu')\n",
    "plt.scatter(11.3, flux_cal, label='Cal pipeline')\n",
    "#plt.xlim(10,16)\n",
    "#plt.ylim(1e-20, 1e-18)\n",
    "plt.xlabel(\"Wavelength ($\\mu$m)\",fontsize=14)\n",
    "plt.ylabel(\"Flux (W/m$^2$/$\\mu$m)\",fontsize=14)\n",
    "plt.legend()\n",
    "plt.savefig(output_dir+f'{name_system}_{method_subtraction}_roll'+str(nb_roll)+'.pdf')\n",
    "plt.show()"
   ]
  },
  {
   "cell_type": "code",
   "execution_count": null,
   "id": "5e08bc64-a101-4500-9de7-1c7320ac35c6",
   "metadata": {},
   "outputs": [],
   "source": []
  },
  {
   "cell_type": "code",
   "execution_count": null,
   "id": "7b98314e-0d13-4944-898c-a5636dfffb31",
   "metadata": {},
   "outputs": [],
   "source": []
  },
  {
   "cell_type": "code",
   "execution_count": null,
   "id": "9d1f4f12-baf3-4e34-b0fb-90e5db1999da",
   "metadata": {},
   "outputs": [],
   "source": []
  },
  {
   "cell_type": "code",
   "execution_count": null,
   "id": "adc5791d-79f6-4218-a4c6-46bfae2dd505",
   "metadata": {},
   "outputs": [],
   "source": []
  }
 ],
 "metadata": {
  "kernelspec": {
   "display_name": "Python 3 (ipykernel)",
   "language": "python",
   "name": "python3"
  },
  "language_info": {
   "codemirror_mode": {
    "name": "ipython",
    "version": 3
   },
   "file_extension": ".py",
   "mimetype": "text/x-python",
   "name": "python",
   "nbconvert_exporter": "python",
   "pygments_lexer": "ipython3",
   "version": "3.11.10"
  }
 },
 "nbformat": 4,
 "nbformat_minor": 5
}
